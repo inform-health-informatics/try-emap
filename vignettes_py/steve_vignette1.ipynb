{
 "cells": [
  {
   "cell_type": "markdown",
   "metadata": {},
   "source": [
    "### Steve Harris\n",
    "2020-05-06\n",
    "\n",
    "# Calculate the severity of illness models for critical care\n",
    "\n",
    " - Part 1: Identify critical care admissions\n",
    " - Part 2: define the outcome\n",
    " - Part 3: define the admitting physiology\n",
    "\n",
    "This file:\n",
    "\n",
    "### Part 1 of 3: Identify critical care admissions\n",
    "\n",
    "Let's calculate the ICNARC acute physiology score for patients admitted to the\n",
    "ICU, and then plot this against their outcome First we need to identify\n",
    "patients admitted to a critical care area (easy-ish) Then we need to define\n",
    "the beginning of their admission. This is harder because they move between\n",
    "critical care areas, and because they may be readmitted."
   ]
  },
  {
   "cell_type": "code",
   "execution_count": null,
   "metadata": {},
   "outputs": [],
   "source": [
    "# Standard library\n",
    "import datetime\n",
    "import os\n",
    "\n",
    "# Additional modules\n",
    "import numpy as np\n",
    "import pandas as pd\n",
    "import psycopg2 as psy\n",
    "import psycopg2.extras\n",
    "from psycopg2 import sql as sql\n",
    "import pandasql as ps\n",
    "import string\n",
    "import pytz\n",
    "from IPython.display import display"
   ]
  },
  {
   "cell_type": "code",
   "execution_count": null,
   "metadata": {},
   "outputs": [],
   "source": [
    "pd.set_option('display.max_columns', None) \n",
    "pd.set_option('display.max_rows', None)"
   ]
  },
  {
   "cell_type": "code",
   "execution_count": null,
   "metadata": {},
   "outputs": [],
   "source": [
    "# pulling in credentials from a secrets file\n",
    "import json\n",
    "\n",
    "with open('credentials.json') as f:\n",
    "    data = json.load(f)\n",
    "    username = data['username']\n",
    "    password = data['password']"
   ]
  },
  {
   "cell_type": "code",
   "execution_count": null,
   "metadata": {},
   "outputs": [],
   "source": [
    "conn = psy.connect(user = username,\n",
    "                   password = password,\n",
    "                   host = \"UCLVLDDDTAEPS02\",\n",
    "                   database = \"uds\")\n",
    "cursor = conn.cursor()\n",
    "print ( conn.get_dsn_parameters(),\"\\n\")"
   ]
  },
  {
   "cell_type": "markdown",
   "metadata": {},
   "source": [
    "We have 2 databases\n",
    "'star'  : live (within minutes), complete, with the history of all information but in a 'star' schema so harder to use\n",
    "'ops'   : based on the OMOP schema, and up-to-date within 12-24 hours; patient centric, easier to use\n",
    "\n",
    "A series of pre-built views are available on 'star' that make it easier to use\n",
    "- bed_moves: patient movements from bed to bed within the bed\n",
    "- demographics: direct patient identifiers including vital status and date of death\n",
    "- flowsheets: derived from both flowsheet via caboodle and via HL7 where the interfaces have been built (e.g. vital signs) \n",
    "- labs: derived from the HL7 stream from HSL\n",
    "\n",
    "We have copies of the queries that create these views stores in snippets/SQL\n",
    "You can load these as follows if you wish e.g.\n",
    "query <- read_file(\"snippets/SQL/bed_moves.sql\")\n",
    "\n",
    "Load bed moves\n",
    "==============\n",
    "THis query returns approx 1e6 rows so it takes a minute or so"
   ]
  },
  {
   "cell_type": "code",
   "execution_count": null,
   "metadata": {},
   "outputs": [],
   "source": [
    "bm_SQL = \"\"\"\n",
    "SELECT * FROM uds.star.bed_moves LIMIT 100\n",
    "\"\"\""
   ]
  },
  {
   "cell_type": "code",
   "execution_count": null,
   "metadata": {},
   "outputs": [],
   "source": [
    "dff = pd.read_sql(bm_SQL, conn)\n",
    "df = dff[0:999999]"
   ]
  },
  {
   "cell_type": "code",
   "execution_count": null,
   "metadata": {},
   "outputs": [],
   "source": [
    "cursor.close()\n",
    "conn.close()"
   ]
  },
  {
   "cell_type": "code",
   "execution_count": null,
   "metadata": {},
   "outputs": [],
   "source": [
    "# The line below to quickly inspect all departments\n",
    "df['department'].value_counts()"
   ]
  },
  {
   "cell_type": "code",
   "execution_count": null,
   "metadata": {},
   "outputs": [],
   "source": [
    "# datetimes to UTC (move to .read_sql)\n",
    "df['admission'] = pd.to_datetime(df['admission'], utc=True)\n",
    "df['discharge'] = pd.to_datetime(df['discharge'], utc=True)"
   ]
  },
  {
   "cell_type": "markdown",
   "metadata": {},
   "source": [
    "## Selecting Intensive Care Patients"
   ]
  },
  {
   "cell_type": "code",
   "execution_count": null,
   "metadata": {},
   "outputs": [],
   "source": [
    "# First find all MRNs that have been to a critical care area\n",
    "icu_bool = (df['department']=='UCH T03 INTENSIVE CARE')|\\\n",
    "            (df['department']=='UCH P03 CV')|\\\n",
    "            (df['department']=='UCH T07 HDRU')\n",
    "mrncc = df[icu_bool]['mrn']"
   ]
  },
  {
   "cell_type": "code",
   "execution_count": null,
   "metadata": {},
   "outputs": [],
   "source": [
    "# add icu_bool to df\n",
    "df['icu_bool'] = icu_bool\n",
    "# then select all bedmoves related to those patients\n",
    "dfcc = df[df['mrn'].isin(mrncc)].sort_values(['mrn','admission'])\n",
    "# Now collapse by department to appropriately define ICU admission\n",
    "dfcc = dfcc[['mrn','csn','admission','discharge','department','icu_bool']]\n",
    "# dfcc.head()"
   ]
  },
  {
   "cell_type": "markdown",
   "metadata": {},
   "source": [
    "# Add in Department Admission Time"
   ]
  },
  {
   "cell_type": "code",
   "execution_count": null,
   "metadata": {},
   "outputs": [],
   "source": [
    "# define updates where the location changes; then keep those and the NAs\n",
    "# checks to see if the department has changed compared to the prev entry\n",
    "shifted = dfcc.groupby('mrn').shift(1)\n",
    "shifted = dfcc.join(shifted.rename(columns=lambda x: x+'_lag'))\n",
    "\n",
    "# fix datetime weirdness introduced by shift\n",
    "shifted['admission_lag'] = pd.to_datetime(shifted['admission_lag'], utc=True)\n",
    "shifted['discharge_lag'] = pd.to_datetime(shifted['discharge_lag'], utc=True)\n",
    "\n",
    "#shifted['department_jump'] = shifted['department'].ne(shifted['department_lag'])\n",
    "shifted['department_jump'] = np.where(shifted['department']!=shifted['department_lag'],True,False)\n",
    "\n",
    "# now need logic to check whether the gap between times is too big (i.e. a re-admission or not)\n",
    "# Specify gap between times for a new location to be considered a 're-admission'\n",
    "shifted['time_jump'] = shifted['admission']-shifted['discharge_lag']\n",
    "#shifted['time_jump'].sort_values(ascending=False)"
   ]
  },
  {
   "cell_type": "code",
   "execution_count": null,
   "metadata": {},
   "outputs": [],
   "source": [
    "time_jump_window = datetime.timedelta(seconds=3600*4)\n",
    "\n",
    "# (department jump AND NOT (icu_bool AND icu_bool_lag)) OR\n",
    "# time jump is greater than time_jump_window\n",
    "\n",
    "c = (shifted['department_jump'] & ~(shifted['icu_bool']&shifted['icu_bool_lag']))|\\\n",
    "(shifted['time_jump']>time_jump_window)\n",
    "#c = (shifted['department_jump'] | (shifted['time_jump']>time_jump_window)\n",
    "\n",
    "shifted['dpt_admit_dt']=shifted['admission'].where(c)\n",
    "shifted['dpt_admit_dt']=shifted.sort_values('admission').groupby('mrn')['dpt_admit_dt'].fillna(method='ffill')\n",
    "\n",
    "shifted['department_i'] = shifted.sort_values('admission',ascending=True).groupby('mrn').cumcount()+1\n",
    "\n",
    "shifted = shifted[['mrn','csn','admission','discharge','department','department_i','dpt_admit_dt']]"
   ]
  },
  {
   "cell_type": "code",
   "execution_count": null,
   "metadata": {},
   "outputs": [],
   "source": [
    "# Queries\n",
    "# What happens with transfers between ICU wards? Resolved.\n",
    "# add in simple groupby for discharge time (group on mrn, dept admit time)\n",
    "# Filtering out trips to say phlemobotomy with discharge as NaT\n",
    "# what about null values? (cf. Steve's code)\n",
    "# understanding behaviour of: isna(), np.where()"
   ]
  },
  {
   "cell_type": "markdown",
   "metadata": {},
   "source": [
    "# Appendix: Record inspector"
   ]
  },
  {
   "cell_type": "code",
   "execution_count": null,
   "metadata": {},
   "outputs": [],
   "source": [
    "def patient_view(n):\n",
    "    print(dfcc['mrn'].unique()[n])\n",
    "    display(dfcc[dfcc['mrn']==dfcc['mrn'].unique()[n]])"
   ]
  },
  {
   "cell_type": "code",
   "execution_count": null,
   "metadata": {},
   "outputs": [],
   "source": [
    "patient_view(76)"
   ]
  },
  {
   "cell_type": "code",
   "execution_count": null,
   "metadata": {},
   "outputs": [],
   "source": [
    "shifted[shifted['mrn']=='']"
   ]
  },
  {
   "cell_type": "code",
   "execution_count": null,
   "metadata": {},
   "outputs": [],
   "source": []
  }
 ],
 "metadata": {
  "kernelspec": {
   "display_name": "Python 3 [py_env]",
   "language": "python",
   "name": "conda-env-py_env-py"
  },
  "language_info": {
   "codemirror_mode": {
    "name": "ipython",
    "version": 3
   },
   "file_extension": ".py",
   "mimetype": "text/x-python",
   "name": "python",
   "nbconvert_exporter": "python",
   "pygments_lexer": "ipython3",
   "version": "3.7.3"
  }
 },
 "nbformat": 4,
 "nbformat_minor": 4
}
